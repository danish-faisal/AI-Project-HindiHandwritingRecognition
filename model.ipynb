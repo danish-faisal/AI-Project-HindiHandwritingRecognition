{
 "cells": [
  {
   "cell_type": "code",
   "execution_count": 1,
   "metadata": {},
   "outputs": [
    {
     "name": "stderr",
     "output_type": "stream",
     "text": [
      "C:\\Users\\user\\Anaconda3\\lib\\site-packages\\h5py\\__init__.py:36: FutureWarning: Conversion of the second argument of issubdtype from `float` to `np.floating` is deprecated. In future, it will be treated as `np.float64 == np.dtype(float).type`.\n",
      "  from ._conv import register_converters as _register_converters\n",
      "Using TensorFlow backend.\n"
     ]
    }
   ],
   "source": [
    "import numpy as np\n",
    "import pandas as pd\n",
    "from keras import layers\n",
    "from keras.layers import Input,Dense,Activation,ZeroPadding2D,BatchNormalization,Flatten,Conv2D\n",
    "from keras.layers import AveragePooling2D,MaxPooling2D,Dropout,GlobalMaxPooling2D,GlobalAveragePooling2D\n",
    "from keras.utils import np_utils,print_summary\n",
    "from keras.models import Sequential\n",
    "from keras.callbacks import ModelCheckpoint\n",
    "import keras.backend as K"
   ]
  },
  {
   "cell_type": "code",
   "execution_count": 2,
   "metadata": {},
   "outputs": [],
   "source": [
    "data=pd.read_csv(\"data2.csv\")\n",
    "dataset=np.array(data)\n",
    "np.random.shuffle(dataset)\n",
    "#X = dataset.iloc[:,:-1]\n",
    "#Y = dataset.iloc[:,-1]\n",
    "#rows_to_remove = np.where(dataset.iloc[:,1024].values==1024)\n",
    "#dataset = dataset.drop(dataset.index[rows_to_remove[0]])\n",
    "X=dataset\n",
    "Y=dataset\n",
    "\n",
    "X=X[:,0:1024]\n",
    "Y=Y[:,1024]\n",
    "\n",
    "X_train=X[0:70000,:]\n",
    "X_train=X_train/255.\n",
    "X_test=X[70000:72001,:]\n",
    "X_test=X_test/255.\n",
    "\n",
    "#Reshape\n",
    "Y=Y.reshape(Y.shape[0],1)\n",
    "Y_train=Y[0:70000,:]\n",
    "Y_train=Y_train.T\n",
    "Y_test=Y[70000:72001,:]\n",
    "Y_test=Y_test.T"
   ]
  },
  {
   "cell_type": "code",
   "execution_count": 3,
   "metadata": {},
   "outputs": [
    {
     "name": "stdout",
     "output_type": "stream",
     "text": [
      "number of training examples =70000\n",
      "number of test examples =2001\n",
      "X_train shape: (70000, 1024)\n",
      "Y_train shape: (1, 70000)\n",
      "X_test shape: (2001, 1024)\n",
      "Y_test shape: (1, 2001)\n"
     ]
    }
   ],
   "source": [
    "print(\"number of training examples =\" + str(X_train.shape[0]))\n",
    "print(\"number of test examples =\" + str(X_test.shape[0]))\n",
    "print(\"X_train shape: \"+ str(X_train.shape))\n",
    "print(\"Y_train shape: \"+ str(Y_train.shape))\n",
    "print(\"X_test shape: \"+ str(X_test.shape))\n",
    "print(\"Y_test shape: \"+ str(Y_test.shape))"
   ]
  },
  {
   "cell_type": "code",
   "execution_count": 4,
   "metadata": {},
   "outputs": [],
   "source": [
    "image_x=32\n",
    "image_y=32\n",
    "#rows_to_remove = np.where(dataset.iloc[:,1024].values==1024)\n",
    "#dataset = dataset.drop(dataset.index[rows_to_remove[0]])\n",
    "train_y=np_utils.to_categorical(Y_train)\n",
    "test_y=np_utils.to_categorical(Y_test)\n",
    "train_y=train_y.reshape(train_y.shape[1],train_y.shape[2])\n",
    "test_y=test_y.reshape(test_y.shape[1],test_y.shape[2])\n",
    "X_train=X_train.reshape(X_train.shape[0],image_x,image_y,1)\n",
    "X_test=X_test.reshape(X_test.shape[0],image_x,image_y,1)"
   ]
  },
  {
   "cell_type": "code",
   "execution_count": 5,
   "metadata": {},
   "outputs": [
    {
     "name": "stdout",
     "output_type": "stream",
     "text": [
      "X_train shape: (70000, 32, 32, 1)\n",
      "Y_train shape: (70000, 48)\n"
     ]
    }
   ],
   "source": [
    "print(\"X_train shape: \" + str(X_train.shape))\n",
    "print(\"Y_train shape: \" + str(train_y.shape))"
   ]
  },
  {
   "cell_type": "code",
   "execution_count": 6,
   "metadata": {},
   "outputs": [],
   "source": [
    "def keras_model(image_x,image_y):\n",
    "    num_of_classes=48\n",
    "    model=Sequential()\n",
    "    model.add(Conv2D(filters=32,kernel_size=(5,5),input_shape=(image_x,image_y,1),activation='relu'))\n",
    "    model.add(MaxPooling2D(pool_size=(2,2),strides=(2,2),padding='same'))\n",
    "    model.add(Conv2D(64,(5,5),activation='relu'))\n",
    "    model.add(MaxPooling2D(pool_size=(5,5),strides=(5,5),padding='same'))\n",
    "    #model.add(Conv2D(128,(5,5),activation='relu'))\n",
    "    #model.add(MaxPooling2D(pool_size=(5,5),strides=(5,5),padding='same'))\n",
    "    model.add(Flatten())\n",
    "    model.add(Dense(num_of_classes,activation='softmax'))\n",
    "    model.compile(loss='categorical_crossentropy',optimizer='adam',metrics=['accuracy'])\n",
    "    filepath=\"devanagari.h5\"\n",
    "    checkpoint1=ModelCheckpoint(filepath,monitor='val_acc',verbose=1,save_best_only=True,mode='max')\n",
    "    callbacks_list=[checkpoint1]\n",
    "\n",
    "    return model,callbacks_list"
   ]
  },
  {
   "cell_type": "code",
   "execution_count": 7,
   "metadata": {},
   "outputs": [
    {
     "name": "stdout",
     "output_type": "stream",
     "text": [
      "Train on 70000 samples, validate on 2001 samples\n",
      "Epoch 1/4\n",
      "70000/70000 [==============================] - 623s 9ms/step - loss: 0.8228 - acc: 0.7727 - val_loss: 0.2997 - val_acc: 0.9155\n",
      "\n",
      "Epoch 00001: val_acc improved from -inf to 0.91554, saving model to devanagari.h5\n",
      "Epoch 2/4\n",
      "70000/70000 [==============================] - 616s 9ms/step - loss: 0.2350 - acc: 0.9304 - val_loss: 0.2116 - val_acc: 0.9350\n",
      "\n",
      "Epoch 00002: val_acc improved from 0.91554 to 0.93503, saving model to devanagari.h5\n",
      "Epoch 3/4\n",
      "70000/70000 [==============================] - 609s 9ms/step - loss: 0.1505 - acc: 0.9545 - val_loss: 0.1366 - val_acc: 0.9565\n",
      "\n",
      "Epoch 00003: val_acc improved from 0.93503 to 0.95652, saving model to devanagari.h5\n",
      "Epoch 4/4\n",
      "70000/70000 [==============================] - 612s 9ms/step - loss: 0.1114 - acc: 0.9654 - val_loss: 0.1519 - val_acc: 0.9515\n",
      "\n",
      "Epoch 00004: val_acc did not improve from 0.95652\n",
      "CNN Error: 4.85%\n",
      "_________________________________________________________________\n",
      "Layer (type)                 Output Shape              Param #   \n",
      "=================================================================\n",
      "conv2d_1 (Conv2D)            (None, 28, 28, 32)        832       \n",
      "_________________________________________________________________\n",
      "max_pooling2d_1 (MaxPooling2 (None, 14, 14, 32)        0         \n",
      "_________________________________________________________________\n",
      "conv2d_2 (Conv2D)            (None, 10, 10, 64)        51264     \n",
      "_________________________________________________________________\n",
      "max_pooling2d_2 (MaxPooling2 (None, 2, 2, 64)          0         \n",
      "_________________________________________________________________\n",
      "flatten_1 (Flatten)          (None, 256)               0         \n",
      "_________________________________________________________________\n",
      "dense_1 (Dense)              (None, 48)                12336     \n",
      "=================================================================\n",
      "Total params: 64,432\n",
      "Trainable params: 64,432\n",
      "Non-trainable params: 0\n",
      "_________________________________________________________________\n"
     ]
    }
   ],
   "source": [
    "model,callbacks_list=keras_model(image_x,image_y)\n",
    "model.fit(X_train,train_y,validation_data=(X_test,test_y),epochs=4,batch_size=64,callbacks=callbacks_list)\n",
    "scores=model.evaluate(X_test,test_y,verbose=0)\n",
    "print(\"CNN Error: %.2f%%\" % (100 - scores[1] * 100))\n",
    "print_summary(model)\n",
    "model.save('devanagari.h5')"
   ]
  },
  {
   "cell_type": "code",
   "execution_count": null,
   "metadata": {},
   "outputs": [],
   "source": []
  }
 ],
 "metadata": {
  "kernelspec": {
   "display_name": "Python 3",
   "language": "python",
   "name": "python3"
  },
  "language_info": {
   "codemirror_mode": {
    "name": "ipython",
    "version": 3
   },
   "file_extension": ".py",
   "mimetype": "text/x-python",
   "name": "python",
   "nbconvert_exporter": "python",
   "pygments_lexer": "ipython3",
   "version": "3.6.5"
  }
 },
 "nbformat": 4,
 "nbformat_minor": 2
}
